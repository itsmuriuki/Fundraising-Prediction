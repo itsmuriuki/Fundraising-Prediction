{
 "cells": [
  {
   "cell_type": "code",
   "execution_count": 1,
   "metadata": {},
   "outputs": [],
   "source": [
    "import numpy as np\n",
    "import pandas as pd\n",
    "import matplotlib.pyplot as plt\n",
    "import matplotlib.patches as mpatches #for custom legends\n",
    "import seaborn as sns\n",
    "from lifelines import KaplanMeierFitter #survival analysis library\n",
    "from lifelines.statistics import logrank_test #survival statistical testing\n",
    "from IPython.display import Image\n",
    "from IPython.core.display import HTML \n",
    "%matplotlib inline"
   ]
  },
  {
   "cell_type": "code",
   "execution_count": 2,
   "metadata": {},
   "outputs": [],
   "source": [
    "def display_all(df):\n",
    "    with pd.option_context(\"display.max_rows\", 1000): \n",
    "        with pd.option_context(\"display.max_columns\", 1000): \n",
    "            display(df)"
   ]
  },
  {
   "cell_type": "code",
   "execution_count": 3,
   "metadata": {},
   "outputs": [
    {
     "name": "stdout",
     "output_type": "stream",
     "text": [
      "(1291, 39)\n"
     ]
    },
    {
     "data": {
      "text/html": [
       "<div>\n",
       "<style scoped>\n",
       "    .dataframe tbody tr th:only-of-type {\n",
       "        vertical-align: middle;\n",
       "    }\n",
       "\n",
       "    .dataframe tbody tr th {\n",
       "        vertical-align: top;\n",
       "    }\n",
       "\n",
       "    .dataframe thead th {\n",
       "        text-align: right;\n",
       "    }\n",
       "</style>\n",
       "<table border=\"1\" class=\"dataframe\">\n",
       "  <thead>\n",
       "    <tr style=\"text-align: right;\">\n",
       "      <th></th>\n",
       "      <th>1286</th>\n",
       "      <th>1287</th>\n",
       "      <th>1288</th>\n",
       "      <th>1289</th>\n",
       "      <th>1290</th>\n",
       "    </tr>\n",
       "  </thead>\n",
       "  <tbody>\n",
       "    <tr>\n",
       "      <th>Name</th>\n",
       "      <td>Faith Wangui Mwathi</td>\n",
       "      <td>Mama Agnes Omwenga Nyakundi</td>\n",
       "      <td>Mrs Jane Wanjiru Kaniu(Nyina Wa Andu)</td>\n",
       "      <td>Snr. Insp. Of Police Betty Cherono Soi</td>\n",
       "      <td>Mzee Muliko Kimanga</td>\n",
       "    </tr>\n",
       "    <tr>\n",
       "      <th>Announcement</th>\n",
       "      <td>3/17/2017</td>\n",
       "      <td>3/17/2017</td>\n",
       "      <td>3/17/2017</td>\n",
       "      <td>3/17/2017</td>\n",
       "      <td>3/17/2017</td>\n",
       "    </tr>\n",
       "    <tr>\n",
       "      <th>Death</th>\n",
       "      <td>3/13/2017</td>\n",
       "      <td>03/12/2017</td>\n",
       "      <td>03/11/2017</td>\n",
       "      <td>NaN</td>\n",
       "      <td>03/12/2017</td>\n",
       "    </tr>\n",
       "    <tr>\n",
       "      <th>Burial</th>\n",
       "      <td>3/18/2017</td>\n",
       "      <td>3/24/2017</td>\n",
       "      <td>3/22/2017</td>\n",
       "      <td>3/18/2017</td>\n",
       "      <td>3/18/2017</td>\n",
       "    </tr>\n",
       "    <tr>\n",
       "      <th>Burial_Day</th>\n",
       "      <td>Saturday</td>\n",
       "      <td>Friday</td>\n",
       "      <td>Wednesday</td>\n",
       "      <td>Saturday</td>\n",
       "      <td>Saturday</td>\n",
       "    </tr>\n",
       "    <tr>\n",
       "      <th>Burial_Week</th>\n",
       "      <td>Weekend</td>\n",
       "      <td>Weekday</td>\n",
       "      <td>Weekday</td>\n",
       "      <td>Weekend</td>\n",
       "      <td>Weekend</td>\n",
       "    </tr>\n",
       "    <tr>\n",
       "      <th>Gender</th>\n",
       "      <td>Female</td>\n",
       "      <td>Female</td>\n",
       "      <td>Female</td>\n",
       "      <td>Female</td>\n",
       "      <td>Male</td>\n",
       "    </tr>\n",
       "    <tr>\n",
       "      <th>Age</th>\n",
       "      <td>NaN</td>\n",
       "      <td>NaN</td>\n",
       "      <td>73</td>\n",
       "      <td>NaN</td>\n",
       "      <td>70</td>\n",
       "    </tr>\n",
       "    <tr>\n",
       "      <th>Color</th>\n",
       "      <td>Yes</td>\n",
       "      <td>Yes</td>\n",
       "      <td>Yes</td>\n",
       "      <td>Yes</td>\n",
       "      <td>Yes</td>\n",
       "    </tr>\n",
       "    <tr>\n",
       "      <th>Size</th>\n",
       "      <td>110</td>\n",
       "      <td>130.24</td>\n",
       "      <td>131.22</td>\n",
       "      <td>54.56</td>\n",
       "      <td>54.56</td>\n",
       "    </tr>\n",
       "    <tr>\n",
       "      <th>Word_Count</th>\n",
       "      <td>224</td>\n",
       "      <td>339</td>\n",
       "      <td>166</td>\n",
       "      <td>112</td>\n",
       "      <td>216</td>\n",
       "    </tr>\n",
       "    <tr>\n",
       "      <th>No_of_Children</th>\n",
       "      <td>1</td>\n",
       "      <td>6</td>\n",
       "      <td>12</td>\n",
       "      <td>1</td>\n",
       "      <td>10</td>\n",
       "    </tr>\n",
       "    <tr>\n",
       "      <th>Significant_Children</th>\n",
       "      <td>0</td>\n",
       "      <td>3</td>\n",
       "      <td>4</td>\n",
       "      <td>0</td>\n",
       "      <td>0</td>\n",
       "    </tr>\n",
       "    <tr>\n",
       "      <th>Significant_Relatives</th>\n",
       "      <td>0</td>\n",
       "      <td>14</td>\n",
       "      <td>3</td>\n",
       "      <td>1</td>\n",
       "      <td>1</td>\n",
       "    </tr>\n",
       "    <tr>\n",
       "      <th>Fundraising</th>\n",
       "      <td>Yes</td>\n",
       "      <td>Yes</td>\n",
       "      <td>Yes</td>\n",
       "      <td>Yes</td>\n",
       "      <td>Yes</td>\n",
       "    </tr>\n",
       "    <tr>\n",
       "      <th>Death_to_Announce</th>\n",
       "      <td>4</td>\n",
       "      <td>5</td>\n",
       "      <td>6</td>\n",
       "      <td>42,811.00</td>\n",
       "      <td>5</td>\n",
       "    </tr>\n",
       "    <tr>\n",
       "      <th>Death_to_Burial</th>\n",
       "      <td>5</td>\n",
       "      <td>12</td>\n",
       "      <td>11</td>\n",
       "      <td>42,812</td>\n",
       "      <td>6</td>\n",
       "    </tr>\n",
       "    <tr>\n",
       "      <th>Announce_to_Burial</th>\n",
       "      <td>1</td>\n",
       "      <td>7</td>\n",
       "      <td>5</td>\n",
       "      <td>1</td>\n",
       "      <td>1</td>\n",
       "    </tr>\n",
       "    <tr>\n",
       "      <th>No_of_Relatives</th>\n",
       "      <td>18</td>\n",
       "      <td>54</td>\n",
       "      <td>27</td>\n",
       "      <td>16</td>\n",
       "      <td>21</td>\n",
       "    </tr>\n",
       "    <tr>\n",
       "      <th>County_Burial</th>\n",
       "      <td>Nairobi</td>\n",
       "      <td>Kisii</td>\n",
       "      <td>Murang'a</td>\n",
       "      <td>Uasin Gishu</td>\n",
       "      <td>Makueni</td>\n",
       "    </tr>\n",
       "    <tr>\n",
       "      <th>County_Death</th>\n",
       "      <td>Nairobi</td>\n",
       "      <td>Kisii</td>\n",
       "      <td>Abroad</td>\n",
       "      <td>NaN</td>\n",
       "      <td>Machakos</td>\n",
       "    </tr>\n",
       "    <tr>\n",
       "      <th>County_Morgue</th>\n",
       "      <td>Nairobi</td>\n",
       "      <td>Kisii</td>\n",
       "      <td>Kiambu</td>\n",
       "      <td>Uasin Gishu</td>\n",
       "      <td>Machakos</td>\n",
       "    </tr>\n",
       "    <tr>\n",
       "      <th>Distance_Death</th>\n",
       "      <td>0</td>\n",
       "      <td>0</td>\n",
       "      <td>NaN</td>\n",
       "      <td>NaN</td>\n",
       "      <td>76</td>\n",
       "    </tr>\n",
       "    <tr>\n",
       "      <th>Distance_Morgue</th>\n",
       "      <td>0</td>\n",
       "      <td>0</td>\n",
       "      <td>67</td>\n",
       "      <td>0</td>\n",
       "      <td>76</td>\n",
       "    </tr>\n",
       "    <tr>\n",
       "      <th>Cause_of_Death</th>\n",
       "      <td>illness</td>\n",
       "      <td>illness</td>\n",
       "      <td>illness</td>\n",
       "      <td>illness</td>\n",
       "      <td>illness</td>\n",
       "    </tr>\n",
       "    <tr>\n",
       "      <th>Married</th>\n",
       "      <td>No</td>\n",
       "      <td>Yes</td>\n",
       "      <td>Yes</td>\n",
       "      <td>No</td>\n",
       "      <td>Yes</td>\n",
       "    </tr>\n",
       "    <tr>\n",
       "      <th>Spouse_Alive</th>\n",
       "      <td>NaN</td>\n",
       "      <td>No</td>\n",
       "      <td>No</td>\n",
       "      <td>NaN</td>\n",
       "      <td>Yes</td>\n",
       "    </tr>\n",
       "    <tr>\n",
       "      <th>Spouse_gender</th>\n",
       "      <td>NaN</td>\n",
       "      <td>Male</td>\n",
       "      <td>Male</td>\n",
       "      <td>NaN</td>\n",
       "      <td>Female</td>\n",
       "    </tr>\n",
       "    <tr>\n",
       "      <th>Hospital</th>\n",
       "      <td>NaN</td>\n",
       "      <td>Hema Hospital</td>\n",
       "      <td>NaN</td>\n",
       "      <td>NaN</td>\n",
       "      <td>Shalom Community Hospital</td>\n",
       "    </tr>\n",
       "    <tr>\n",
       "      <th>Morgue</th>\n",
       "      <td>Lee Funeral Home</td>\n",
       "      <td>Hema Hospital Mortuary</td>\n",
       "      <td>Kenyatta University</td>\n",
       "      <td>MTRH Eldoret</td>\n",
       "      <td>Machakos Funeral Home</td>\n",
       "    </tr>\n",
       "    <tr>\n",
       "      <th>Same_Morgue</th>\n",
       "      <td>NaN</td>\n",
       "      <td>Yes</td>\n",
       "      <td>No</td>\n",
       "      <td>NaN</td>\n",
       "      <td>No</td>\n",
       "    </tr>\n",
       "    <tr>\n",
       "      <th>Cost_Morgue</th>\n",
       "      <td>NaN</td>\n",
       "      <td>NaN</td>\n",
       "      <td>NaN</td>\n",
       "      <td>NaN</td>\n",
       "      <td>NaN</td>\n",
       "    </tr>\n",
       "    <tr>\n",
       "      <th>Occupation</th>\n",
       "      <td>Safaricom</td>\n",
       "      <td>NaN</td>\n",
       "      <td>Huplan Ltd</td>\n",
       "      <td>Inspector of police</td>\n",
       "      <td>NaN</td>\n",
       "    </tr>\n",
       "    <tr>\n",
       "      <th>Repetition</th>\n",
       "      <td>NaN</td>\n",
       "      <td>NaN</td>\n",
       "      <td>NaN</td>\n",
       "      <td>NaN</td>\n",
       "      <td>NaN</td>\n",
       "    </tr>\n",
       "    <tr>\n",
       "      <th>Corporate</th>\n",
       "      <td>NaN</td>\n",
       "      <td>NaN</td>\n",
       "      <td>NaN</td>\n",
       "      <td>NaN</td>\n",
       "      <td>NaN</td>\n",
       "    </tr>\n",
       "    <tr>\n",
       "      <th>Corporate_Name</th>\n",
       "      <td>NaN</td>\n",
       "      <td>NaN</td>\n",
       "      <td>NaN</td>\n",
       "      <td>NaN</td>\n",
       "      <td>NaN</td>\n",
       "    </tr>\n",
       "    <tr>\n",
       "      <th>Residence</th>\n",
       "      <td>NaN</td>\n",
       "      <td>NaN</td>\n",
       "      <td>NaN</td>\n",
       "      <td>NaN</td>\n",
       "      <td>NaN</td>\n",
       "    </tr>\n",
       "    <tr>\n",
       "      <th>Residence_Name</th>\n",
       "      <td>NaN</td>\n",
       "      <td>NaN</td>\n",
       "      <td>NaN</td>\n",
       "      <td>NaN</td>\n",
       "      <td>NaN</td>\n",
       "    </tr>\n",
       "    <tr>\n",
       "      <th>Residence_Category</th>\n",
       "      <td>NaN</td>\n",
       "      <td>NaN</td>\n",
       "      <td>NaN</td>\n",
       "      <td>NaN</td>\n",
       "      <td>NaN</td>\n",
       "    </tr>\n",
       "  </tbody>\n",
       "</table>\n",
       "</div>"
      ],
      "text/plain": [
       "                                      1286                         1287  \\\n",
       "Name                   Faith Wangui Mwathi  Mama Agnes Omwenga Nyakundi   \n",
       "Announcement                     3/17/2017                    3/17/2017   \n",
       "Death                            3/13/2017                   03/12/2017   \n",
       "Burial                           3/18/2017                    3/24/2017   \n",
       "Burial_Day                        Saturday                       Friday   \n",
       "Burial_Week                        Weekend                      Weekday   \n",
       "Gender                              Female                       Female   \n",
       "Age                                    NaN                          NaN   \n",
       "Color                                  Yes                          Yes   \n",
       "Size                                   110                       130.24   \n",
       "Word_Count                             224                          339   \n",
       "No_of_Children                           1                            6   \n",
       "Significant_Children                     0                            3   \n",
       "Significant_Relatives                    0                           14   \n",
       "Fundraising                            Yes                          Yes   \n",
       "Death_to_Announce                        4                            5   \n",
       "Death_to_Burial                          5                           12   \n",
       "Announce_to_Burial                       1                            7   \n",
       "No_of_Relatives                         18                           54   \n",
       "County_Burial                      Nairobi                        Kisii   \n",
       "County_Death                       Nairobi                        Kisii   \n",
       "County_Morgue                      Nairobi                        Kisii   \n",
       "Distance_Death                           0                            0   \n",
       "Distance_Morgue                          0                            0   \n",
       "Cause_of_Death                     illness                      illness   \n",
       "Married                                 No                          Yes   \n",
       "Spouse_Alive                           NaN                           No   \n",
       "Spouse_gender                          NaN                         Male   \n",
       "Hospital                               NaN                Hema Hospital   \n",
       "Morgue                    Lee Funeral Home       Hema Hospital Mortuary   \n",
       "Same_Morgue                            NaN                          Yes   \n",
       "Cost_Morgue                            NaN                          NaN   \n",
       "Occupation                       Safaricom                          NaN   \n",
       "Repetition                             NaN                          NaN   \n",
       "Corporate                              NaN                          NaN   \n",
       "Corporate_Name                         NaN                          NaN   \n",
       "Residence                              NaN                          NaN   \n",
       "Residence_Name                         NaN                          NaN   \n",
       "Residence_Category                     NaN                          NaN   \n",
       "\n",
       "                                                        1288  \\\n",
       "Name                   Mrs Jane Wanjiru Kaniu(Nyina Wa Andu)   \n",
       "Announcement                                       3/17/2017   \n",
       "Death                                             03/11/2017   \n",
       "Burial                                             3/22/2017   \n",
       "Burial_Day                                         Wednesday   \n",
       "Burial_Week                                          Weekday   \n",
       "Gender                                                Female   \n",
       "Age                                                       73   \n",
       "Color                                                    Yes   \n",
       "Size                                                  131.22   \n",
       "Word_Count                                               166   \n",
       "No_of_Children                                            12   \n",
       "Significant_Children                                       4   \n",
       "Significant_Relatives                                      3   \n",
       "Fundraising                                              Yes   \n",
       "Death_to_Announce                                          6   \n",
       "Death_to_Burial                                           11   \n",
       "Announce_to_Burial                                         5   \n",
       "No_of_Relatives                                           27   \n",
       "County_Burial                                       Murang'a   \n",
       "County_Death                                          Abroad   \n",
       "County_Morgue                                         Kiambu   \n",
       "Distance_Death                                           NaN   \n",
       "Distance_Morgue                                           67   \n",
       "Cause_of_Death                                       illness   \n",
       "Married                                                  Yes   \n",
       "Spouse_Alive                                              No   \n",
       "Spouse_gender                                           Male   \n",
       "Hospital                                                 NaN   \n",
       "Morgue                                   Kenyatta University   \n",
       "Same_Morgue                                               No   \n",
       "Cost_Morgue                                              NaN   \n",
       "Occupation                                        Huplan Ltd   \n",
       "Repetition                                               NaN   \n",
       "Corporate                                                NaN   \n",
       "Corporate_Name                                           NaN   \n",
       "Residence                                                NaN   \n",
       "Residence_Name                                           NaN   \n",
       "Residence_Category                                       NaN   \n",
       "\n",
       "                                                         1289  \\\n",
       "Name                   Snr. Insp. Of Police Betty Cherono Soi   \n",
       "Announcement                                        3/17/2017   \n",
       "Death                                                     NaN   \n",
       "Burial                                              3/18/2017   \n",
       "Burial_Day                                           Saturday   \n",
       "Burial_Week                                           Weekend   \n",
       "Gender                                                 Female   \n",
       "Age                                                       NaN   \n",
       "Color                                                     Yes   \n",
       "Size                                                    54.56   \n",
       "Word_Count                                                112   \n",
       "No_of_Children                                              1   \n",
       "Significant_Children                                        0   \n",
       "Significant_Relatives                                       1   \n",
       "Fundraising                                               Yes   \n",
       "Death_to_Announce                                   42,811.00   \n",
       "Death_to_Burial                                        42,812   \n",
       "Announce_to_Burial                                          1   \n",
       "No_of_Relatives                                            16   \n",
       "County_Burial                                     Uasin Gishu   \n",
       "County_Death                                              NaN   \n",
       "County_Morgue                                     Uasin Gishu   \n",
       "Distance_Death                                            NaN   \n",
       "Distance_Morgue                                             0   \n",
       "Cause_of_Death                                        illness   \n",
       "Married                                                    No   \n",
       "Spouse_Alive                                              NaN   \n",
       "Spouse_gender                                             NaN   \n",
       "Hospital                                                  NaN   \n",
       "Morgue                                           MTRH Eldoret   \n",
       "Same_Morgue                                               NaN   \n",
       "Cost_Morgue                                               NaN   \n",
       "Occupation                                Inspector of police   \n",
       "Repetition                                                NaN   \n",
       "Corporate                                                 NaN   \n",
       "Corporate_Name                                            NaN   \n",
       "Residence                                                 NaN   \n",
       "Residence_Name                                            NaN   \n",
       "Residence_Category                                        NaN   \n",
       "\n",
       "                                            1290  \n",
       "Name                         Mzee Muliko Kimanga  \n",
       "Announcement                           3/17/2017  \n",
       "Death                                 03/12/2017  \n",
       "Burial                                 3/18/2017  \n",
       "Burial_Day                              Saturday  \n",
       "Burial_Week                              Weekend  \n",
       "Gender                                      Male  \n",
       "Age                                           70  \n",
       "Color                                        Yes  \n",
       "Size                                       54.56  \n",
       "Word_Count                                   216  \n",
       "No_of_Children                                10  \n",
       "Significant_Children                           0  \n",
       "Significant_Relatives                          1  \n",
       "Fundraising                                  Yes  \n",
       "Death_to_Announce                              5  \n",
       "Death_to_Burial                                6  \n",
       "Announce_to_Burial                             1  \n",
       "No_of_Relatives                               21  \n",
       "County_Burial                            Makueni  \n",
       "County_Death                            Machakos  \n",
       "County_Morgue                           Machakos  \n",
       "Distance_Death                                76  \n",
       "Distance_Morgue                               76  \n",
       "Cause_of_Death                           illness  \n",
       "Married                                      Yes  \n",
       "Spouse_Alive                                 Yes  \n",
       "Spouse_gender                             Female  \n",
       "Hospital               Shalom Community Hospital  \n",
       "Morgue                     Machakos Funeral Home  \n",
       "Same_Morgue                                   No  \n",
       "Cost_Morgue                                  NaN  \n",
       "Occupation                                   NaN  \n",
       "Repetition                                   NaN  \n",
       "Corporate                                    NaN  \n",
       "Corporate_Name                               NaN  \n",
       "Residence                                    NaN  \n",
       "Residence_Name                               NaN  \n",
       "Residence_Category                           NaN  "
      ]
     },
     "metadata": {},
     "output_type": "display_data"
    }
   ],
   "source": [
    "df = pd.read_csv('Obituaries_Dataset.csv')\n",
    "print(df.shape)\n",
    "display_all(df.tail().transpose())"
   ]
  },
  {
   "cell_type": "code",
   "execution_count": 4,
   "metadata": {},
   "outputs": [],
   "source": [
    "# temporarily remove columns with datetimes\n",
    "df_clean_stage1 = df.drop([], axis = 1)"
   ]
  },
  {
   "cell_type": "code",
   "execution_count": 5,
   "metadata": {},
   "outputs": [],
   "source": [
    "numeric_predictors = df_clean_stage1.dtypes[df_clean_stage1.dtypes != \"object\"].index"
   ]
  },
  {
   "cell_type": "code",
   "execution_count": 6,
   "metadata": {},
   "outputs": [
    {
     "data": {
      "text/plain": [
       "False"
      ]
     },
     "execution_count": 6,
     "metadata": {},
     "output_type": "execute_result"
    }
   ],
   "source": [
    "# let's deal with missing values \n",
    "\n",
    "# remove NaNs and replace with zeros\n",
    "df_clean_stage2 = numeric_predictors.fillna(0)\n",
    "\n",
    "# confirmation\n",
    "numeric_predictors = pd.isnull(df_clean_stage2).any()\n",
    "\n",
    "# formatting the text in cooler way\n",
    "# msg1 = \"They are {} columns with not applicable values\"\n",
    "numeric_predictors"
   ]
  },
  {
   "cell_type": "code",
   "execution_count": 7,
   "metadata": {},
   "outputs": [
    {
     "name": "stdout",
     "output_type": "stream",
     "text": [
      "They are 0 columns with not applicable values\n"
     ]
    }
   ],
   "source": [
    "df_clean_stage3 = df_clean_stage1.fillna(0)\n",
    "\n",
    "# confirmation\n",
    "object_predictors = pd.isnull(df_clean_stage3).any()\n",
    "\n",
    "msg2 = \"They are {} columns with not applicable values\"\n",
    "print (msg2.format(sum(object_predictors == True)))"
   ]
  },
  {
   "cell_type": "code",
   "execution_count": 8,
   "metadata": {},
   "outputs": [],
   "source": [
    "\n",
    "df_clean_stage3[\"Fundraising\"] = df.Fundraising.apply(lambda x: 1 if x == \"Yes\" else 0) #recode fundraising var"
   ]
  },
  {
   "cell_type": "code",
   "execution_count": 9,
   "metadata": {},
   "outputs": [
    {
     "data": {
      "text/plain": [
       "dtype('int64')"
      ]
     },
     "execution_count": 9,
     "metadata": {},
     "output_type": "execute_result"
    }
   ],
   "source": [
    "df_clean_stage3.Fundraising.dtype"
   ]
  },
  {
   "cell_type": "code",
   "execution_count": 10,
   "metadata": {},
   "outputs": [
    {
     "data": {
      "text/plain": [
       "Male      714\n",
       "Female    577\n",
       "Name: Gender, dtype: int64"
      ]
     },
     "execution_count": 10,
     "metadata": {},
     "output_type": "execute_result"
    }
   ],
   "source": [
    "df_clean_stage3.Gender.value_counts()"
   ]
  },
  {
   "cell_type": "code",
   "execution_count": 11,
   "metadata": {},
   "outputs": [],
   "source": [
    "#recode Genders var to get our two comparison cohorts\n",
    "df_clean_stage3[\"Gender\"] = df.Gender.apply(lambda x: 1 if x == \"Yes\" else 0)"
   ]
  },
  {
   "cell_type": "code",
   "execution_count": 12,
   "metadata": {},
   "outputs": [
    {
     "data": {
      "text/plain": [
       "dtype('int64')"
      ]
     },
     "execution_count": 12,
     "metadata": {},
     "output_type": "execute_result"
    }
   ],
   "source": [
    "df_clean_stage3.Gender.dtype"
   ]
  },
  {
   "cell_type": "code",
   "execution_count": 13,
   "metadata": {},
   "outputs": [
    {
     "data": {
      "text/plain": [
       "count     1291\n",
       "unique     173\n",
       "top          7\n",
       "freq       109\n",
       "Name: Death_to_Burial, dtype: object"
      ]
     },
     "execution_count": 13,
     "metadata": {},
     "output_type": "execute_result"
    }
   ],
   "source": [
    "df_clean_stage3.Death_to_Burial.describe()"
   ]
  },
  {
   "cell_type": "code",
   "execution_count": 14,
   "metadata": {},
   "outputs": [
    {
     "data": {
      "text/plain": [
       "count    1291.000000\n",
       "mean        0.536793\n",
       "std         0.498838\n",
       "min         0.000000\n",
       "25%         0.000000\n",
       "50%         1.000000\n",
       "75%         1.000000\n",
       "max         1.000000\n",
       "Name: Fundraising, dtype: float64"
      ]
     },
     "execution_count": 14,
     "metadata": {},
     "output_type": "execute_result"
    }
   ],
   "source": [
    "df_clean_stage3.Fundraising.describe()"
   ]
  },
  {
   "cell_type": "code",
   "execution_count": 15,
   "metadata": {},
   "outputs": [
    {
     "data": {
      "text/html": [
       "<div>\n",
       "<style scoped>\n",
       "    .dataframe tbody tr th:only-of-type {\n",
       "        vertical-align: middle;\n",
       "    }\n",
       "\n",
       "    .dataframe tbody tr th {\n",
       "        vertical-align: top;\n",
       "    }\n",
       "\n",
       "    .dataframe thead th {\n",
       "        text-align: right;\n",
       "    }\n",
       "</style>\n",
       "<table border=\"1\" class=\"dataframe\">\n",
       "  <thead>\n",
       "    <tr style=\"text-align: right;\">\n",
       "      <th></th>\n",
       "      <th>1286</th>\n",
       "      <th>1287</th>\n",
       "      <th>1288</th>\n",
       "      <th>1289</th>\n",
       "      <th>1290</th>\n",
       "    </tr>\n",
       "  </thead>\n",
       "  <tbody>\n",
       "    <tr>\n",
       "      <th>Name</th>\n",
       "      <td>Faith Wangui Mwathi</td>\n",
       "      <td>Mama Agnes Omwenga Nyakundi</td>\n",
       "      <td>Mrs Jane Wanjiru Kaniu(Nyina Wa Andu)</td>\n",
       "      <td>Snr. Insp. Of Police Betty Cherono Soi</td>\n",
       "      <td>Mzee Muliko Kimanga</td>\n",
       "    </tr>\n",
       "    <tr>\n",
       "      <th>Announcement</th>\n",
       "      <td>3/17/2017</td>\n",
       "      <td>3/17/2017</td>\n",
       "      <td>3/17/2017</td>\n",
       "      <td>3/17/2017</td>\n",
       "      <td>3/17/2017</td>\n",
       "    </tr>\n",
       "    <tr>\n",
       "      <th>Death</th>\n",
       "      <td>3/13/2017</td>\n",
       "      <td>03/12/2017</td>\n",
       "      <td>03/11/2017</td>\n",
       "      <td>0</td>\n",
       "      <td>03/12/2017</td>\n",
       "    </tr>\n",
       "    <tr>\n",
       "      <th>Burial</th>\n",
       "      <td>3/18/2017</td>\n",
       "      <td>3/24/2017</td>\n",
       "      <td>3/22/2017</td>\n",
       "      <td>3/18/2017</td>\n",
       "      <td>3/18/2017</td>\n",
       "    </tr>\n",
       "    <tr>\n",
       "      <th>Burial_Day</th>\n",
       "      <td>Saturday</td>\n",
       "      <td>Friday</td>\n",
       "      <td>Wednesday</td>\n",
       "      <td>Saturday</td>\n",
       "      <td>Saturday</td>\n",
       "    </tr>\n",
       "    <tr>\n",
       "      <th>Burial_Week</th>\n",
       "      <td>Weekend</td>\n",
       "      <td>Weekday</td>\n",
       "      <td>Weekday</td>\n",
       "      <td>Weekend</td>\n",
       "      <td>Weekend</td>\n",
       "    </tr>\n",
       "    <tr>\n",
       "      <th>Gender</th>\n",
       "      <td>0</td>\n",
       "      <td>0</td>\n",
       "      <td>0</td>\n",
       "      <td>0</td>\n",
       "      <td>0</td>\n",
       "    </tr>\n",
       "    <tr>\n",
       "      <th>Age</th>\n",
       "      <td>0</td>\n",
       "      <td>0</td>\n",
       "      <td>73</td>\n",
       "      <td>0</td>\n",
       "      <td>70</td>\n",
       "    </tr>\n",
       "    <tr>\n",
       "      <th>Color</th>\n",
       "      <td>Yes</td>\n",
       "      <td>Yes</td>\n",
       "      <td>Yes</td>\n",
       "      <td>Yes</td>\n",
       "      <td>Yes</td>\n",
       "    </tr>\n",
       "    <tr>\n",
       "      <th>Size</th>\n",
       "      <td>110</td>\n",
       "      <td>130.24</td>\n",
       "      <td>131.22</td>\n",
       "      <td>54.56</td>\n",
       "      <td>54.56</td>\n",
       "    </tr>\n",
       "    <tr>\n",
       "      <th>Word_Count</th>\n",
       "      <td>224</td>\n",
       "      <td>339</td>\n",
       "      <td>166</td>\n",
       "      <td>112</td>\n",
       "      <td>216</td>\n",
       "    </tr>\n",
       "    <tr>\n",
       "      <th>No_of_Children</th>\n",
       "      <td>1</td>\n",
       "      <td>6</td>\n",
       "      <td>12</td>\n",
       "      <td>1</td>\n",
       "      <td>10</td>\n",
       "    </tr>\n",
       "    <tr>\n",
       "      <th>Significant_Children</th>\n",
       "      <td>0</td>\n",
       "      <td>3</td>\n",
       "      <td>4</td>\n",
       "      <td>0</td>\n",
       "      <td>0</td>\n",
       "    </tr>\n",
       "    <tr>\n",
       "      <th>Significant_Relatives</th>\n",
       "      <td>0</td>\n",
       "      <td>14</td>\n",
       "      <td>3</td>\n",
       "      <td>1</td>\n",
       "      <td>1</td>\n",
       "    </tr>\n",
       "    <tr>\n",
       "      <th>Fundraising</th>\n",
       "      <td>1</td>\n",
       "      <td>1</td>\n",
       "      <td>1</td>\n",
       "      <td>1</td>\n",
       "      <td>1</td>\n",
       "    </tr>\n",
       "    <tr>\n",
       "      <th>Death_to_Announce</th>\n",
       "      <td>4</td>\n",
       "      <td>5</td>\n",
       "      <td>6</td>\n",
       "      <td>42,811.00</td>\n",
       "      <td>5</td>\n",
       "    </tr>\n",
       "    <tr>\n",
       "      <th>Death_to_Burial</th>\n",
       "      <td>5</td>\n",
       "      <td>12</td>\n",
       "      <td>11</td>\n",
       "      <td>42,812</td>\n",
       "      <td>6</td>\n",
       "    </tr>\n",
       "    <tr>\n",
       "      <th>Announce_to_Burial</th>\n",
       "      <td>1</td>\n",
       "      <td>7</td>\n",
       "      <td>5</td>\n",
       "      <td>1</td>\n",
       "      <td>1</td>\n",
       "    </tr>\n",
       "    <tr>\n",
       "      <th>No_of_Relatives</th>\n",
       "      <td>18</td>\n",
       "      <td>54</td>\n",
       "      <td>27</td>\n",
       "      <td>16</td>\n",
       "      <td>21</td>\n",
       "    </tr>\n",
       "    <tr>\n",
       "      <th>County_Burial</th>\n",
       "      <td>Nairobi</td>\n",
       "      <td>Kisii</td>\n",
       "      <td>Murang'a</td>\n",
       "      <td>Uasin Gishu</td>\n",
       "      <td>Makueni</td>\n",
       "    </tr>\n",
       "    <tr>\n",
       "      <th>County_Death</th>\n",
       "      <td>Nairobi</td>\n",
       "      <td>Kisii</td>\n",
       "      <td>Abroad</td>\n",
       "      <td>0</td>\n",
       "      <td>Machakos</td>\n",
       "    </tr>\n",
       "    <tr>\n",
       "      <th>County_Morgue</th>\n",
       "      <td>Nairobi</td>\n",
       "      <td>Kisii</td>\n",
       "      <td>Kiambu</td>\n",
       "      <td>Uasin Gishu</td>\n",
       "      <td>Machakos</td>\n",
       "    </tr>\n",
       "    <tr>\n",
       "      <th>Distance_Death</th>\n",
       "      <td>0</td>\n",
       "      <td>0</td>\n",
       "      <td>0</td>\n",
       "      <td>0</td>\n",
       "      <td>76</td>\n",
       "    </tr>\n",
       "    <tr>\n",
       "      <th>Distance_Morgue</th>\n",
       "      <td>0</td>\n",
       "      <td>0</td>\n",
       "      <td>67</td>\n",
       "      <td>0</td>\n",
       "      <td>76</td>\n",
       "    </tr>\n",
       "    <tr>\n",
       "      <th>Cause_of_Death</th>\n",
       "      <td>illness</td>\n",
       "      <td>illness</td>\n",
       "      <td>illness</td>\n",
       "      <td>illness</td>\n",
       "      <td>illness</td>\n",
       "    </tr>\n",
       "    <tr>\n",
       "      <th>Married</th>\n",
       "      <td>No</td>\n",
       "      <td>Yes</td>\n",
       "      <td>Yes</td>\n",
       "      <td>No</td>\n",
       "      <td>Yes</td>\n",
       "    </tr>\n",
       "    <tr>\n",
       "      <th>Spouse_Alive</th>\n",
       "      <td>0</td>\n",
       "      <td>No</td>\n",
       "      <td>No</td>\n",
       "      <td>0</td>\n",
       "      <td>Yes</td>\n",
       "    </tr>\n",
       "    <tr>\n",
       "      <th>Spouse_gender</th>\n",
       "      <td>0</td>\n",
       "      <td>Male</td>\n",
       "      <td>Male</td>\n",
       "      <td>0</td>\n",
       "      <td>Female</td>\n",
       "    </tr>\n",
       "    <tr>\n",
       "      <th>Hospital</th>\n",
       "      <td>0</td>\n",
       "      <td>Hema Hospital</td>\n",
       "      <td>0</td>\n",
       "      <td>0</td>\n",
       "      <td>Shalom Community Hospital</td>\n",
       "    </tr>\n",
       "    <tr>\n",
       "      <th>Morgue</th>\n",
       "      <td>Lee Funeral Home</td>\n",
       "      <td>Hema Hospital Mortuary</td>\n",
       "      <td>Kenyatta University</td>\n",
       "      <td>MTRH Eldoret</td>\n",
       "      <td>Machakos Funeral Home</td>\n",
       "    </tr>\n",
       "    <tr>\n",
       "      <th>Same_Morgue</th>\n",
       "      <td>0</td>\n",
       "      <td>Yes</td>\n",
       "      <td>No</td>\n",
       "      <td>0</td>\n",
       "      <td>No</td>\n",
       "    </tr>\n",
       "    <tr>\n",
       "      <th>Cost_Morgue</th>\n",
       "      <td>0</td>\n",
       "      <td>0</td>\n",
       "      <td>0</td>\n",
       "      <td>0</td>\n",
       "      <td>0</td>\n",
       "    </tr>\n",
       "    <tr>\n",
       "      <th>Occupation</th>\n",
       "      <td>Safaricom</td>\n",
       "      <td>0</td>\n",
       "      <td>Huplan Ltd</td>\n",
       "      <td>Inspector of police</td>\n",
       "      <td>0</td>\n",
       "    </tr>\n",
       "    <tr>\n",
       "      <th>Repetition</th>\n",
       "      <td>0</td>\n",
       "      <td>0</td>\n",
       "      <td>0</td>\n",
       "      <td>0</td>\n",
       "      <td>0</td>\n",
       "    </tr>\n",
       "    <tr>\n",
       "      <th>Corporate</th>\n",
       "      <td>0</td>\n",
       "      <td>0</td>\n",
       "      <td>0</td>\n",
       "      <td>0</td>\n",
       "      <td>0</td>\n",
       "    </tr>\n",
       "    <tr>\n",
       "      <th>Corporate_Name</th>\n",
       "      <td>0</td>\n",
       "      <td>0</td>\n",
       "      <td>0</td>\n",
       "      <td>0</td>\n",
       "      <td>0</td>\n",
       "    </tr>\n",
       "    <tr>\n",
       "      <th>Residence</th>\n",
       "      <td>0</td>\n",
       "      <td>0</td>\n",
       "      <td>0</td>\n",
       "      <td>0</td>\n",
       "      <td>0</td>\n",
       "    </tr>\n",
       "    <tr>\n",
       "      <th>Residence_Name</th>\n",
       "      <td>0</td>\n",
       "      <td>0</td>\n",
       "      <td>0</td>\n",
       "      <td>0</td>\n",
       "      <td>0</td>\n",
       "    </tr>\n",
       "    <tr>\n",
       "      <th>Residence_Category</th>\n",
       "      <td>0</td>\n",
       "      <td>0</td>\n",
       "      <td>0</td>\n",
       "      <td>0</td>\n",
       "      <td>0</td>\n",
       "    </tr>\n",
       "  </tbody>\n",
       "</table>\n",
       "</div>"
      ],
      "text/plain": [
       "                                      1286                         1287  \\\n",
       "Name                   Faith Wangui Mwathi  Mama Agnes Omwenga Nyakundi   \n",
       "Announcement                     3/17/2017                    3/17/2017   \n",
       "Death                            3/13/2017                   03/12/2017   \n",
       "Burial                           3/18/2017                    3/24/2017   \n",
       "Burial_Day                        Saturday                       Friday   \n",
       "Burial_Week                        Weekend                      Weekday   \n",
       "Gender                                   0                            0   \n",
       "Age                                      0                            0   \n",
       "Color                                  Yes                          Yes   \n",
       "Size                                   110                       130.24   \n",
       "Word_Count                             224                          339   \n",
       "No_of_Children                           1                            6   \n",
       "Significant_Children                     0                            3   \n",
       "Significant_Relatives                    0                           14   \n",
       "Fundraising                              1                            1   \n",
       "Death_to_Announce                        4                            5   \n",
       "Death_to_Burial                          5                           12   \n",
       "Announce_to_Burial                       1                            7   \n",
       "No_of_Relatives                         18                           54   \n",
       "County_Burial                      Nairobi                        Kisii   \n",
       "County_Death                       Nairobi                        Kisii   \n",
       "County_Morgue                      Nairobi                        Kisii   \n",
       "Distance_Death                           0                            0   \n",
       "Distance_Morgue                          0                            0   \n",
       "Cause_of_Death                     illness                      illness   \n",
       "Married                                 No                          Yes   \n",
       "Spouse_Alive                             0                           No   \n",
       "Spouse_gender                            0                         Male   \n",
       "Hospital                                 0                Hema Hospital   \n",
       "Morgue                    Lee Funeral Home       Hema Hospital Mortuary   \n",
       "Same_Morgue                              0                          Yes   \n",
       "Cost_Morgue                              0                            0   \n",
       "Occupation                       Safaricom                            0   \n",
       "Repetition                               0                            0   \n",
       "Corporate                                0                            0   \n",
       "Corporate_Name                           0                            0   \n",
       "Residence                                0                            0   \n",
       "Residence_Name                           0                            0   \n",
       "Residence_Category                       0                            0   \n",
       "\n",
       "                                                        1288  \\\n",
       "Name                   Mrs Jane Wanjiru Kaniu(Nyina Wa Andu)   \n",
       "Announcement                                       3/17/2017   \n",
       "Death                                             03/11/2017   \n",
       "Burial                                             3/22/2017   \n",
       "Burial_Day                                         Wednesday   \n",
       "Burial_Week                                          Weekday   \n",
       "Gender                                                     0   \n",
       "Age                                                       73   \n",
       "Color                                                    Yes   \n",
       "Size                                                  131.22   \n",
       "Word_Count                                               166   \n",
       "No_of_Children                                            12   \n",
       "Significant_Children                                       4   \n",
       "Significant_Relatives                                      3   \n",
       "Fundraising                                                1   \n",
       "Death_to_Announce                                          6   \n",
       "Death_to_Burial                                           11   \n",
       "Announce_to_Burial                                         5   \n",
       "No_of_Relatives                                           27   \n",
       "County_Burial                                       Murang'a   \n",
       "County_Death                                          Abroad   \n",
       "County_Morgue                                         Kiambu   \n",
       "Distance_Death                                             0   \n",
       "Distance_Morgue                                           67   \n",
       "Cause_of_Death                                       illness   \n",
       "Married                                                  Yes   \n",
       "Spouse_Alive                                              No   \n",
       "Spouse_gender                                           Male   \n",
       "Hospital                                                   0   \n",
       "Morgue                                   Kenyatta University   \n",
       "Same_Morgue                                               No   \n",
       "Cost_Morgue                                                0   \n",
       "Occupation                                        Huplan Ltd   \n",
       "Repetition                                                 0   \n",
       "Corporate                                                  0   \n",
       "Corporate_Name                                             0   \n",
       "Residence                                                  0   \n",
       "Residence_Name                                             0   \n",
       "Residence_Category                                         0   \n",
       "\n",
       "                                                         1289  \\\n",
       "Name                   Snr. Insp. Of Police Betty Cherono Soi   \n",
       "Announcement                                        3/17/2017   \n",
       "Death                                                       0   \n",
       "Burial                                              3/18/2017   \n",
       "Burial_Day                                           Saturday   \n",
       "Burial_Week                                           Weekend   \n",
       "Gender                                                      0   \n",
       "Age                                                         0   \n",
       "Color                                                     Yes   \n",
       "Size                                                    54.56   \n",
       "Word_Count                                                112   \n",
       "No_of_Children                                              1   \n",
       "Significant_Children                                        0   \n",
       "Significant_Relatives                                       1   \n",
       "Fundraising                                                 1   \n",
       "Death_to_Announce                                   42,811.00   \n",
       "Death_to_Burial                                        42,812   \n",
       "Announce_to_Burial                                          1   \n",
       "No_of_Relatives                                            16   \n",
       "County_Burial                                     Uasin Gishu   \n",
       "County_Death                                                0   \n",
       "County_Morgue                                     Uasin Gishu   \n",
       "Distance_Death                                              0   \n",
       "Distance_Morgue                                             0   \n",
       "Cause_of_Death                                        illness   \n",
       "Married                                                    No   \n",
       "Spouse_Alive                                                0   \n",
       "Spouse_gender                                               0   \n",
       "Hospital                                                    0   \n",
       "Morgue                                           MTRH Eldoret   \n",
       "Same_Morgue                                                 0   \n",
       "Cost_Morgue                                                 0   \n",
       "Occupation                                Inspector of police   \n",
       "Repetition                                                  0   \n",
       "Corporate                                                   0   \n",
       "Corporate_Name                                              0   \n",
       "Residence                                                   0   \n",
       "Residence_Name                                              0   \n",
       "Residence_Category                                          0   \n",
       "\n",
       "                                            1290  \n",
       "Name                         Mzee Muliko Kimanga  \n",
       "Announcement                           3/17/2017  \n",
       "Death                                 03/12/2017  \n",
       "Burial                                 3/18/2017  \n",
       "Burial_Day                              Saturday  \n",
       "Burial_Week                              Weekend  \n",
       "Gender                                         0  \n",
       "Age                                           70  \n",
       "Color                                        Yes  \n",
       "Size                                       54.56  \n",
       "Word_Count                                   216  \n",
       "No_of_Children                                10  \n",
       "Significant_Children                           0  \n",
       "Significant_Relatives                          1  \n",
       "Fundraising                                    1  \n",
       "Death_to_Announce                              5  \n",
       "Death_to_Burial                                6  \n",
       "Announce_to_Burial                             1  \n",
       "No_of_Relatives                               21  \n",
       "County_Burial                            Makueni  \n",
       "County_Death                            Machakos  \n",
       "County_Morgue                           Machakos  \n",
       "Distance_Death                                76  \n",
       "Distance_Morgue                               76  \n",
       "Cause_of_Death                           illness  \n",
       "Married                                      Yes  \n",
       "Spouse_Alive                                 Yes  \n",
       "Spouse_gender                             Female  \n",
       "Hospital               Shalom Community Hospital  \n",
       "Morgue                     Machakos Funeral Home  \n",
       "Same_Morgue                                   No  \n",
       "Cost_Morgue                                    0  \n",
       "Occupation                                     0  \n",
       "Repetition                                     0  \n",
       "Corporate                                      0  \n",
       "Corporate_Name                                 0  \n",
       "Residence                                      0  \n",
       "Residence_Name                                 0  \n",
       "Residence_Category                             0  "
      ]
     },
     "metadata": {},
     "output_type": "display_data"
    }
   ],
   "source": [
    "display_all(df_clean_stage3.tail().transpose())"
   ]
  },
  {
   "cell_type": "code",
   "execution_count": 16,
   "metadata": {},
   "outputs": [],
   "source": [
    "df_clean_stage3['Death_to_Burial'] = (df_clean_stage3['Death_to_Burial'] !='n').astype(int)"
   ]
  },
  {
   "cell_type": "code",
   "execution_count": 17,
   "metadata": {},
   "outputs": [],
   "source": [
    "df_clean_stage3['Death_to_Announce'] = (df_clean_stage3['Death_to_Announce'] !='n').astype(int)"
   ]
  },
  {
   "cell_type": "code",
   "execution_count": 18,
   "metadata": {},
   "outputs": [],
   "source": [
    "df_clean_stage3['Announce_to_Burial'] = (df_clean_stage3['Announce_to_Burial'] !='n').astype(int)"
   ]
  },
  {
   "cell_type": "code",
   "execution_count": 19,
   "metadata": {},
   "outputs": [],
   "source": [
    "# Death to Announce: Time in days between death to announcement on newspaper\n",
    "# Death to Burial: Time in days between death and burial\n",
    "# Announce to Burial: Time in days between between announcement of death and burial\n",
    "kmf = KaplanMeierFitter()\n",
    "T = df_clean_stage3[\"Announce_to_Burial\"] #duration\n",
    "E = df_clean_stage3[\"Fundraising\"] #observed - 1 if death/churn is seen, 0 if censored"
   ]
  },
  {
   "cell_type": "code",
   "execution_count": 20,
   "metadata": {},
   "outputs": [
    {
     "data": {
      "text/plain": [
       "dtype('int64')"
      ]
     },
     "execution_count": 20,
     "metadata": {},
     "output_type": "execute_result"
    }
   ],
   "source": [
    "T.dtype"
   ]
  },
  {
   "cell_type": "code",
   "execution_count": 21,
   "metadata": {},
   "outputs": [
    {
     "data": {
      "text/plain": [
       "dtype('int64')"
      ]
     },
     "execution_count": 21,
     "metadata": {},
     "output_type": "execute_result"
    }
   ],
   "source": [
    "E.dtype"
   ]
  },
  {
   "cell_type": "code",
   "execution_count": 22,
   "metadata": {},
   "outputs": [
    {
     "data": {
      "text/plain": [
       "<lifelines.KaplanMeierFitter: fitted with 1291 observations, 598 censored>"
      ]
     },
     "execution_count": 22,
     "metadata": {},
     "output_type": "execute_result"
    }
   ],
   "source": [
    "kmf.fit(T, event_observed=E)"
   ]
  },
  {
   "cell_type": "code",
   "execution_count": 23,
   "metadata": {},
   "outputs": [
    {
     "data": {
      "text/plain": [
       "<matplotlib.axes._subplots.AxesSubplot at 0x111f6f390>"
      ]
     },
     "execution_count": 23,
     "metadata": {},
     "output_type": "execute_result"
    },
    {
     "data": {
      "image/png": "[encoded data removed]",
      "text/plain": [
       "<matplotlib.figure.Figure at 0x10b03f438>"
      ]
     },
     "metadata": {},
     "output_type": "display_data"
    }
   ],
   "source": [
    "kmf.survival_function_.plot()"
   ]
  },
  {
   "cell_type": "code",
   "execution_count": 24,
   "metadata": {},
   "outputs": [
    {
     "data": {
      "text/plain": [
       "<matplotlib.axes._subplots.AxesSubplot at 0x1120072b0>"
      ]
     },
     "execution_count": 24,
     "metadata": {},
     "output_type": "execute_result"
    },
    {
     "data": {
      "image/png": "[encoded data removed]",
      "text/plain": [
       "<matplotlib.figure.Figure at 0x11209f5f8>"
      ]
     },
     "metadata": {},
     "output_type": "display_data"
    }
   ],
   "source": [
    "kmf.plot()"
   ]
  },
  {
   "cell_type": "code",
   "execution_count": 25,
   "metadata": {},
   "outputs": [
    {
     "data": {
      "image/png": "[encoded data removed]",
      "text/plain": [
       "<matplotlib.figure.Figure at 0x1120c7cf8>"
      ]
     },
     "metadata": {},
     "output_type": "display_data"
    }
   ],
   "source": [
    "kmf.fit(T)\n",
    "ax = kmf.plot()\n",
    "\n",
    "kmf.fit(E)\n",
    "ax = kmf.plot(ax=ax)"
   ]
  },
  {
   "cell_type": "code",
   "execution_count": 26,
   "metadata": {},
   "outputs": [
    {
     "data": {
      "text/plain": [
       "<matplotlib.axes._subplots.AxesSubplot at 0x11223a3c8>"
      ]
     },
     "execution_count": 26,
     "metadata": {},
     "output_type": "execute_result"
    },
    {
     "data": {
      "image/png": "[encoded data removed]",
      "text/plain": [
       "<matplotlib.figure.Figure at 0x1114bfd30>"
      ]
     },
     "metadata": {},
     "output_type": "display_data"
    }
   ],
   "source": [
    "kmf.survival_function_.plot()"
   ]
  },
  {
   "cell_type": "code",
   "execution_count": 27,
   "metadata": {},
   "outputs": [
    {
     "data": {
      "text/plain": [
       "<matplotlib.axes._subplots.AxesSubplot at 0x112287a58>"
      ]
     },
     "execution_count": 27,
     "metadata": {},
     "output_type": "execute_result"
    },
    {
     "data": {
      "image/png": "[encoded data removed]",
      "text/plain": [
       "<matplotlib.figure.Figure at 0x11216bcf8>"
      ]
     },
     "metadata": {},
     "output_type": "display_data"
    }
   ],
   "source": [
    "kmf.plot()"
   ]
  },
  {
   "cell_type": "code",
   "execution_count": 28,
   "metadata": {},
   "outputs": [
    {
     "data": {
      "text/plain": [
       "1.0"
      ]
     },
     "execution_count": 28,
     "metadata": {},
     "output_type": "execute_result"
    }
   ],
   "source": [
    "kmf.median_"
   ]
  },
  {
   "cell_type": "code",
   "execution_count": 29,
   "metadata": {},
   "outputs": [
    {
     "name": "stdout",
     "output_type": "stream",
     "text": [
      "\n",
      "t_0=-1, alpha=0.99, null_distribution=chi squared, df=1\n",
      "\n",
      "test_statistic      p     \n",
      "     1290.0000 0.0000  ***\n",
      "---\n",
      "Signif. codes: 0 '***' 0.0001 '**' 0.001 '*' 0.01 '.' 0.05 ' ' 1\n"
     ]
    }
   ],
   "source": [
    "multi = (df_clean_stage3[\"Fundraising\"] == 1)\n",
    "results = logrank_test(T[multi], T[~multi], E[multi], E[~multi], alpha=0.99 ) #at 99% confidence level\n",
    "results.print_summary()"
   ]
  },
  {
   "cell_type": "code",
   "execution_count": 30,
   "metadata": {},
   "outputs": [
    {
     "data": {
      "text/html": [
       "<img src=\"https://wikimedia.org/api/rest_v1/media/math/render/svg/68750c8d50ac1d055b3ddcc67a05de43b40fdebf\"/>"
      ],
      "text/plain": [
       "<IPython.core.display.Image object>"
      ]
     },
     "execution_count": 30,
     "metadata": {},
     "output_type": "execute_result"
    }
   ],
   "source": [
    "\n",
    "# Image Credit: https://en.wikipedia.org/wiki/Log-rank_test\n",
    "Image(url= \"https://wikimedia.org/api/rest_v1/media/math/render/svg/68750c8d50ac1d055b3ddcc67a05de43b40fdebf\")"
   ]
  },
  {
   "cell_type": "code",
   "execution_count": 31,
   "metadata": {},
   "outputs": [
    {
     "name": "stdout",
     "output_type": "stream",
     "text": [
      "3.660214856085173e+42\n"
     ]
    }
   ],
   "source": [
    "Z = results.test_statistic\n",
    "D = E.sum() #number of events observed\n",
    "\n",
    "hazard_ratio = np.exp(Z*np.sqrt(4/D))\n",
    "print(hazard_ratio)"
   ]
  },
  {
   "cell_type": "markdown",
   "metadata": {},
   "source": [
    " Therefore the probability of fundraising is 3.6 times higher in users who fundraised compared to user who did not fundraise"
   ]
  },
  {
   "cell_type": "code",
   "execution_count": 32,
   "metadata": {},
   "outputs": [
    {
     "data": {
      "text/plain": [
       "<lifelines.KaplanMeierFitter: fitted with 1291 observations, 598 censored>"
      ]
     },
     "execution_count": 32,
     "metadata": {},
     "output_type": "execute_result"
    }
   ],
   "source": [
    "kmf.fit(durations = df_clean_stage3.Death_to_Burial, \n",
    "        event_observed = df_clean_stage3.Fundraising)"
   ]
  },
  {
   "cell_type": "code",
   "execution_count": 33,
   "metadata": {},
   "outputs": [
    {
     "data": {
      "text/html": [
       "<div>\n",
       "<style scoped>\n",
       "    .dataframe tbody tr th:only-of-type {\n",
       "        vertical-align: middle;\n",
       "    }\n",
       "\n",
       "    .dataframe tbody tr th {\n",
       "        vertical-align: top;\n",
       "    }\n",
       "\n",
       "    .dataframe thead th {\n",
       "        text-align: right;\n",
       "    }\n",
       "</style>\n",
       "<table border=\"1\" class=\"dataframe\">\n",
       "  <thead>\n",
       "    <tr style=\"text-align: right;\">\n",
       "      <th></th>\n",
       "      <th>removed</th>\n",
       "      <th>observed</th>\n",
       "      <th>censored</th>\n",
       "      <th>entrance</th>\n",
       "      <th>at_risk</th>\n",
       "    </tr>\n",
       "    <tr>\n",
       "      <th>event_at</th>\n",
       "      <th></th>\n",
       "      <th></th>\n",
       "      <th></th>\n",
       "      <th></th>\n",
       "      <th></th>\n",
       "    </tr>\n",
       "  </thead>\n",
       "  <tbody>\n",
       "    <tr>\n",
       "      <th>0.0</th>\n",
       "      <td>0</td>\n",
       "      <td>0</td>\n",
       "      <td>0</td>\n",
       "      <td>1291</td>\n",
       "      <td>1291</td>\n",
       "    </tr>\n",
       "    <tr>\n",
       "      <th>1.0</th>\n",
       "      <td>1291</td>\n",
       "      <td>693</td>\n",
       "      <td>598</td>\n",
       "      <td>0</td>\n",
       "      <td>1291</td>\n",
       "    </tr>\n",
       "  </tbody>\n",
       "</table>\n",
       "</div>"
      ],
      "text/plain": [
       "          removed  observed  censored  entrance  at_risk\n",
       "event_at                                                \n",
       "0.0             0         0         0      1291     1291\n",
       "1.0          1291       693       598         0     1291"
      ]
     },
     "execution_count": 33,
     "metadata": {},
     "output_type": "execute_result"
    }
   ],
   "source": [
    "kmf.event_table"
   ]
  },
  {
   "cell_type": "code",
   "execution_count": 34,
   "metadata": {},
   "outputs": [
    {
     "data": {
      "text/plain": [
       "1.0"
      ]
     },
     "execution_count": 34,
     "metadata": {},
     "output_type": "execute_result"
    }
   ],
   "source": [
    "# get the values for time = 0 from the survival table\n",
    "event_at_0 = kmf.event_table.iloc[0, :]\n",
    "# now calculate the survival probability for t = 0\n",
    "surv_for_0 =  (event_at_0.at_risk - event_at_0.observed) / event_at_0.at_risk\n",
    "surv_for_0"
   ]
  },
  {
   "cell_type": "code",
   "execution_count": 35,
   "metadata": {},
   "outputs": [
    {
     "data": {
      "text/plain": [
       "0.4632068164213788"
      ]
     },
     "execution_count": 35,
     "metadata": {},
     "output_type": "execute_result"
    }
   ],
   "source": [
    "# Calculate the survival probability for t = 1\n",
    "event_at_1 = kmf.event_table.iloc[1, :]\n",
    "surv_for_1 =  (event_at_1.at_risk - event_at_1.observed) / event_at_1.at_risk\n",
    "surv_for_1"
   ]
  },
  {
   "cell_type": "code",
   "execution_count": 36,
   "metadata": {},
   "outputs": [
    {
     "data": {
      "text/html": [
       "<div>\n",
       "<style scoped>\n",
       "    .dataframe tbody tr th:only-of-type {\n",
       "        vertical-align: middle;\n",
       "    }\n",
       "\n",
       "    .dataframe tbody tr th {\n",
       "        vertical-align: top;\n",
       "    }\n",
       "\n",
       "    .dataframe thead th {\n",
       "        text-align: right;\n",
       "    }\n",
       "</style>\n",
       "<table border=\"1\" class=\"dataframe\">\n",
       "  <thead>\n",
       "    <tr style=\"text-align: right;\">\n",
       "      <th></th>\n",
       "      <th>KM_estimate</th>\n",
       "    </tr>\n",
       "    <tr>\n",
       "      <th>timeline</th>\n",
       "      <th></th>\n",
       "    </tr>\n",
       "  </thead>\n",
       "  <tbody>\n",
       "    <tr>\n",
       "      <th>0.0</th>\n",
       "      <td>1.000000</td>\n",
       "    </tr>\n",
       "    <tr>\n",
       "      <th>1.0</th>\n",
       "      <td>0.463207</td>\n",
       "    </tr>\n",
       "  </tbody>\n",
       "</table>\n",
       "</div>"
      ],
      "text/plain": [
       "          KM_estimate\n",
       "timeline             \n",
       "0.0          1.000000\n",
       "1.0          0.463207"
      ]
     },
     "execution_count": 36,
     "metadata": {},
     "output_type": "execute_result"
    }
   ],
   "source": [
    "kmf.survival_function_"
   ]
  },
  {
   "cell_type": "code",
   "execution_count": 37,
   "metadata": {},
   "outputs": [
    {
     "data": {
      "image/png": "[encoded data removed]",
      "text/plain": [
       "<matplotlib.figure.Figure at 0x112416748>"
      ]
     },
     "metadata": {},
     "output_type": "display_data"
    }
   ],
   "source": [
    "kmf.plot()\n",
    "# Add title and y-axis label\n",
    "plt.title(\"The Kaplan-Meier Estimate for fundraising\")\n",
    "plt.ylabel(\"Probability a Player is Still Active\")\n",
    "\n",
    "plt.show()"
   ]
  },
  {
   "cell_type": "code",
   "execution_count": null,
   "metadata": {},
   "outputs": [],
   "source": []
  }
 ],
 "metadata": {
  "kernelspec": {
   "display_name": "Python 3",
   "language": "python",
   "name": "python3"
  },
  "language_info": {
   "codemirror_mode": {
    "name": "ipython",
    "version": 3
   },
   "file_extension": ".py",
   "mimetype": "text/x-python",
   "name": "python",
   "nbconvert_exporter": "python",
   "pygments_lexer": "ipython3",
   "version": "3.6.4"
  }
 },
 "nbformat": 4,
 "nbformat_minor": 2
}
