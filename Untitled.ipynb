{
 "cells": [
  {
   "cell_type": "code",
   "execution_count": 2,
   "metadata": {},
   "outputs": [
    {
     "name": "stderr",
     "output_type": "stream",
     "text": [
      "Using TensorFlow backend.\n"
     ]
    },
    {
     "ename": "ModuleNotFoundError",
     "evalue": "No module named 'dask'",
     "output_type": "error",
     "traceback": [
      "\u001b[0;31m---------------------------------------------------------------------------\u001b[0m",
      "\u001b[0;31mModuleNotFoundError\u001b[0m                       Traceback (most recent call last)",
      "\u001b[0;32m<ipython-input-2-7e5d23c91410>\u001b[0m in \u001b[0;36m<module>\u001b[0;34m()\u001b[0m\n\u001b[1;32m     19\u001b[0m \u001b[0;32mfrom\u001b[0m \u001b[0mkeras\u001b[0m\u001b[0;34m.\u001b[0m\u001b[0mcallbacks\u001b[0m \u001b[0;32mimport\u001b[0m \u001b[0mEarlyStopping\u001b[0m\u001b[0;34m,\u001b[0m \u001b[0mModelCheckpoint\u001b[0m\u001b[0;34m,\u001b[0m \u001b[0mReduceLROnPlateau\u001b[0m\u001b[0;34m,\u001b[0m \u001b[0mTensorBoard\u001b[0m\u001b[0;34m\u001b[0m\u001b[0m\n\u001b[1;32m     20\u001b[0m \u001b[0;32mfrom\u001b[0m \u001b[0msklearn\u001b[0m\u001b[0;34m.\u001b[0m\u001b[0mfeature_extraction\u001b[0m \u001b[0;32mimport\u001b[0m \u001b[0mDictVectorizer\u001b[0m\u001b[0;34m\u001b[0m\u001b[0m\n\u001b[0;32m---> 21\u001b[0;31m \u001b[0;32mimport\u001b[0m \u001b[0mdask\u001b[0m\u001b[0;34m\u001b[0m\u001b[0m\n\u001b[0m\u001b[1;32m     22\u001b[0m \u001b[0;32mfrom\u001b[0m \u001b[0mclr\u001b[0m \u001b[0;32mimport\u001b[0m \u001b[0mLRFinder\u001b[0m\u001b[0;34m\u001b[0m\u001b[0m\n\u001b[1;32m     23\u001b[0m \u001b[0;32mfrom\u001b[0m \u001b[0mclr\u001b[0m \u001b[0;32mimport\u001b[0m \u001b[0mOneCycleLR\u001b[0m\u001b[0;34m\u001b[0m\u001b[0m\n",
      "\u001b[0;31mModuleNotFoundError\u001b[0m: No module named 'dask'"
     ]
    }
   ],
   "source": [
    "# Importing modules and packages\n",
    "import os\n",
    "import sys\n",
    "import warnings\n",
    "warnings.filterwarnings(\"ignore\")\n",
    "from datetime import datetime\n",
    "import numpy as np\n",
    "import pandas as pd\n",
    "from sklearn.preprocessing import Normalizer\n",
    "from sklearn.model_selection import train_test_split\n",
    "from keras.layers import Dense\n",
    "from keras import layers\n",
    "from keras.layers.core import Dropout\n",
    "from keras import models\n",
    "from keras.models import Sequential\n",
    "from keras import regularizers\n",
    "from keras import optimizers \n",
    "from keras.optimizers import RMSprop\n",
    "from keras.callbacks import EarlyStopping, ModelCheckpoint, ReduceLROnPlateau, TensorBoard\n",
    "from sklearn.feature_extraction import DictVectorizer\n",
    "import dask\n",
    "from clr import LRFinder\n",
    "from clr import OneCycleLR"
   ]
  },
  {
   "cell_type": "code",
   "execution_count": null,
   "metadata": {},
   "outputs": [],
   "source": [
    "!ls"
   ]
  },
  {
   "cell_type": "code",
   "execution_count": null,
   "metadata": {},
   "outputs": [],
   "source": [
    "# read in dataset using a defined schema \n",
    "!cat Obituaries_Dataset.csv"
   ]
  },
  {
   "cell_type": "code",
   "execution_count": null,
   "metadata": {},
   "outputs": [],
   "source": [
    "# fix the dataset with weird column \n",
    "!grep --color \"2,014\" Obituaries_Dataset.csv "
   ]
  },
  {
   "cell_type": "code",
   "execution_count": null,
   "metadata": {},
   "outputs": [],
   "source": [
    "!cat Obituaries_Dataset.csv"
   ]
  },
  {
   "cell_type": "code",
   "execution_count": null,
   "metadata": {},
   "outputs": [],
   "source": [
    "# make keu value pairs\n",
    "dtypes = {\n",
    "    \"Name\": np.str,\n",
    "    \"Announcement\": np.str,\n",
    "    \"Death\":np.str,\n",
    "    \"Burial\":np.str,\n",
    "    \"Burial_Day\":np.str,\n",
    "    \"Burial_Week\":np.str,\n",
    "    \"Gender\":np.str,\n",
    "    \"Age\":np.float32,\n",
    "    \"Color\":np.str,\n",
    "    \"Size\":np.float32,\n",
    "    \"Word_Count\":np.float32,\n",
    "    \"No_of_Children\":np.float32,\n",
    "    \"Significant_Children\":np.float32,\n",
    "    \"Significant_Relatives\":np.float32,\n",
    "    \"Fundraising\":np.str,\n",
    "    \"Death_to_Announce\":np.float32,\n",
    "    \"Death_to_Burial\":np.float32,\n",
    "    \"Announce_to_Burial\":np.float32,\n",
    "    \"No_of_Relatives\":np.float32,\n",
    "    \"County_Burial\":np.str,\n",
    "    \"County_Death\":np.str,\n",
    "    \"County_Morgue\":np.str,\n",
    "    \"Distance_Death\":np.float32,\n",
    "    \"Distance_Morgue\":np.float32,\n",
    "    \"Cause_of_Death\":np.str,\n",
    "    \"Married\":np.str,\n",
    "    \"Spouse_Alive\":np.str,\n",
    "    \"Spouse_gender\":np.str,\n",
    "    \"Hospital\":np.str,\n",
    "    \"Morgue\":np.str,\n",
    "    \"Same_Morgue\":np.str,\n",
    "    \"Cost_Morgue\":np.float32,\n",
    "    \"Occupation\":np.str,\n",
    "    \"Repetition\":np.str,\n",
    "    \"Corporate\":np.str,\n",
    "    \"Corporate_Name\":np.str,\n",
    "    \"Residence\":np.str,\n",
    "    \"Residence_Name\":np.str,\n",
    "    \"Residence_Category\": np.str\n",
    "}"
   ]
  },
  {
   "cell_type": "code",
   "execution_count": null,
   "metadata": {},
   "outputs": [],
   "source": [
    "# import dataset with pandas and define the schema\n",
    "\n",
    "df = pd.read_csv(\"fixed_Obituaries_Dataset.csv\", dtype=dtypes, usecols=dtypes.keys(), parse_dates=True)"
   ]
  },
  {
   "cell_type": "code",
   "execution_count": null,
   "metadata": {},
   "outputs": [],
   "source": []
  }
 ],
 "metadata": {
  "kernelspec": {
   "display_name": "Python 3",
   "language": "python",
   "name": "python3"
  },
  "language_info": {
   "codemirror_mode": {
    "name": "ipython",
    "version": 3
   },
   "file_extension": ".py",
   "mimetype": "text/x-python",
   "name": "python",
   "nbconvert_exporter": "python",
   "pygments_lexer": "ipython3",
   "version": "3.6.4"
  },
  "latex_envs": {
   "LaTeX_envs_menu_present": true,
   "autoclose": false,
   "autocomplete": true,
   "bibliofile": "biblio.bib",
   "cite_by": "apalike",
   "current_citInitial": 1,
   "eqLabelWithNumbers": true,
   "eqNumInitial": 1,
   "hotkeys": {
    "equation": "Ctrl-E",
    "itemize": "Ctrl-I"
   },
   "labels_anchors": false,
   "latex_user_defs": false,
   "report_style_numbering": false,
   "user_envs_cfg": false
  }
 },
 "nbformat": 4,
 "nbformat_minor": 2
}
